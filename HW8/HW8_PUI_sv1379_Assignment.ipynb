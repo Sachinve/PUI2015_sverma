{
 "cells": [
  {
   "cell_type": "code",
   "execution_count": 2,
   "metadata": {
    "collapsed": false
   },
   "outputs": [
    {
     "name": "stdout",
     "output_type": "stream",
     "text": [
      "Populating the interactive namespace from numpy and matplotlib\n"
     ]
    }
   ],
   "source": [
    "from __future__ import print_function\n",
    "__author__='sverma'\n",
    "\n",
    "import pylab as pl\n",
    "import pandas as pd\n",
    "import numpy as np\n",
    "%pylab inline\n",
    "\n",
    "import os\n",
    "\n",
    "import matplotlib.pyplot as plt"
   ]
  },
  {
   "cell_type": "code",
   "execution_count": 3,
   "metadata": {
    "collapsed": false
   },
   "outputs": [
    {
     "name": "stderr",
     "output_type": "stream",
     "text": [
      "/Users/sachinv/anaconda/lib/python2.7/site-packages/matplotlib/__init__.py:855: UserWarning: svg.embed_char_paths is deprecated and replaced with svg.fonttype; please use the latter.\n",
      "  warnings.warn(self.msg_depr % (key, alt_key))\n"
     ]
    }
   ],
   "source": [
    "\n",
    "#this makes my plots pretty! but it is totally not mandatory to do it\n",
    "import json\n",
    "s = json.load( open(os.getenv ('PUI2015')+\"/fbb_matplotlibrc.json\") )\n",
    "pl.rcParams.update(s)"
   ]
  },
  {
   "cell_type": "code",
   "execution_count": 4,
   "metadata": {
    "collapsed": true
   },
   "outputs": [],
   "source": [
    "DATA_DIR= os.getenv ('PUI2015')+'/notebooks/data/'\n",
    "JAN_14= DATA_DIR + '2014-01 - Citi Bike trip data.csv'\n",
    "FEB_14= DATA_DIR + '2014-02 - Citi Bike trip data.csv'\n",
    "MAR_14= DATA_DIR + '2014-03 - Citi Bike trip data.csv'\n",
    "APR_14= DATA_DIR + '2014-04 - Citi Bike trip data.csv'\n",
    "MAY_14= DATA_DIR + '2014-05 - Citi Bike trip data.csv'\n",
    "JUN_14= DATA_DIR + '2014-06 - Citi Bike trip data.csv'\n",
    "JUL_14= DATA_DIR + '2014-07 - Citi Bike trip data.csv'\n",
    "AUG_14= DATA_DIR + '2014-08 - Citi Bike trip data.csv'\n",
    "SEP_14= DATA_DIR + '201409-citibike-tripdata.csv'\n",
    "OCT_14= DATA_DIR + '201410-citibike-tripdata.csv'\n",
    "NOV_14= DATA_DIR + '201411-citibike-tripdata.csv'\n",
    "DEC_14= DATA_DIR + '201412-citibike-tripdata.csv'\n",
    "\n"
   ]
  },
  {
   "cell_type": "code",
   "execution_count": 5,
   "metadata": {
    "collapsed": false
   },
   "outputs": [
    {
     "data": {
      "text/html": [
       "<div>\n",
       "<table border=\"1\" class=\"dataframe\">\n",
       "  <thead>\n",
       "    <tr style=\"text-align: right;\">\n",
       "      <th></th>\n",
       "      <th>tripduration</th>\n",
       "      <th>starttime</th>\n",
       "      <th>stoptime</th>\n",
       "      <th>start station id</th>\n",
       "      <th>start station name</th>\n",
       "      <th>start station latitude</th>\n",
       "      <th>start station longitude</th>\n",
       "      <th>end station id</th>\n",
       "      <th>end station name</th>\n",
       "      <th>end station latitude</th>\n",
       "      <th>end station longitude</th>\n",
       "      <th>bikeid</th>\n",
       "      <th>usertype</th>\n",
       "      <th>birth year</th>\n",
       "      <th>gender</th>\n",
       "    </tr>\n",
       "  </thead>\n",
       "  <tbody>\n",
       "    <tr>\n",
       "      <th>0</th>\n",
       "      <td>1257</td>\n",
       "      <td>12/1/2014 00:00:28</td>\n",
       "      <td>12/1/2014 00:21:25</td>\n",
       "      <td>475</td>\n",
       "      <td>E 16 St &amp; Irving Pl</td>\n",
       "      <td>40.735243</td>\n",
       "      <td>-73.987586</td>\n",
       "      <td>521</td>\n",
       "      <td>8 Ave &amp; W 31 St</td>\n",
       "      <td>40.750450</td>\n",
       "      <td>-73.994811</td>\n",
       "      <td>16047</td>\n",
       "      <td>Customer</td>\n",
       "      <td>NaN</td>\n",
       "      <td>0</td>\n",
       "    </tr>\n",
       "    <tr>\n",
       "      <th>1</th>\n",
       "      <td>275</td>\n",
       "      <td>12/1/2014 00:00:43</td>\n",
       "      <td>12/1/2014 00:05:18</td>\n",
       "      <td>498</td>\n",
       "      <td>Broadway &amp; W 32 St</td>\n",
       "      <td>40.748549</td>\n",
       "      <td>-73.988084</td>\n",
       "      <td>546</td>\n",
       "      <td>E 30 St &amp; Park Ave S</td>\n",
       "      <td>40.744449</td>\n",
       "      <td>-73.983035</td>\n",
       "      <td>18472</td>\n",
       "      <td>Subscriber</td>\n",
       "      <td>1988</td>\n",
       "      <td>2</td>\n",
       "    </tr>\n",
       "    <tr>\n",
       "      <th>2</th>\n",
       "      <td>450</td>\n",
       "      <td>12/1/2014 00:01:22</td>\n",
       "      <td>12/1/2014 00:08:52</td>\n",
       "      <td>444</td>\n",
       "      <td>Broadway &amp; W 24 St</td>\n",
       "      <td>40.742354</td>\n",
       "      <td>-73.989151</td>\n",
       "      <td>434</td>\n",
       "      <td>9 Ave &amp; W 18 St</td>\n",
       "      <td>40.743174</td>\n",
       "      <td>-74.003664</td>\n",
       "      <td>19589</td>\n",
       "      <td>Subscriber</td>\n",
       "      <td>1983</td>\n",
       "      <td>1</td>\n",
       "    </tr>\n",
       "    <tr>\n",
       "      <th>3</th>\n",
       "      <td>1126</td>\n",
       "      <td>12/1/2014 00:02:17</td>\n",
       "      <td>12/1/2014 00:21:03</td>\n",
       "      <td>475</td>\n",
       "      <td>E 16 St &amp; Irving Pl</td>\n",
       "      <td>40.735243</td>\n",
       "      <td>-73.987586</td>\n",
       "      <td>521</td>\n",
       "      <td>8 Ave &amp; W 31 St</td>\n",
       "      <td>40.750450</td>\n",
       "      <td>-73.994811</td>\n",
       "      <td>21142</td>\n",
       "      <td>Customer</td>\n",
       "      <td>NaN</td>\n",
       "      <td>0</td>\n",
       "    </tr>\n",
       "    <tr>\n",
       "      <th>4</th>\n",
       "      <td>331</td>\n",
       "      <td>12/1/2014 00:02:21</td>\n",
       "      <td>12/1/2014 00:07:52</td>\n",
       "      <td>519</td>\n",
       "      <td>Pershing Square North</td>\n",
       "      <td>40.751873</td>\n",
       "      <td>-73.977706</td>\n",
       "      <td>527</td>\n",
       "      <td>E 33 St &amp; 2 Ave</td>\n",
       "      <td>40.744023</td>\n",
       "      <td>-73.976056</td>\n",
       "      <td>18679</td>\n",
       "      <td>Subscriber</td>\n",
       "      <td>1986</td>\n",
       "      <td>2</td>\n",
       "    </tr>\n",
       "  </tbody>\n",
       "</table>\n",
       "</div>"
      ],
      "text/plain": [
       "   tripduration           starttime            stoptime  start station id  \\\n",
       "0          1257  12/1/2014 00:00:28  12/1/2014 00:21:25               475   \n",
       "1           275  12/1/2014 00:00:43  12/1/2014 00:05:18               498   \n",
       "2           450  12/1/2014 00:01:22  12/1/2014 00:08:52               444   \n",
       "3          1126  12/1/2014 00:02:17  12/1/2014 00:21:03               475   \n",
       "4           331  12/1/2014 00:02:21  12/1/2014 00:07:52               519   \n",
       "\n",
       "      start station name  start station latitude  start station longitude  \\\n",
       "0    E 16 St & Irving Pl               40.735243               -73.987586   \n",
       "1     Broadway & W 32 St               40.748549               -73.988084   \n",
       "2     Broadway & W 24 St               40.742354               -73.989151   \n",
       "3    E 16 St & Irving Pl               40.735243               -73.987586   \n",
       "4  Pershing Square North               40.751873               -73.977706   \n",
       "\n",
       "   end station id      end station name  end station latitude  \\\n",
       "0             521       8 Ave & W 31 St             40.750450   \n",
       "1             546  E 30 St & Park Ave S             40.744449   \n",
       "2             434       9 Ave & W 18 St             40.743174   \n",
       "3             521       8 Ave & W 31 St             40.750450   \n",
       "4             527       E 33 St & 2 Ave             40.744023   \n",
       "\n",
       "   end station longitude  bikeid    usertype  birth year  gender  \n",
       "0             -73.994811   16047    Customer         NaN       0  \n",
       "1             -73.983035   18472  Subscriber        1988       2  \n",
       "2             -74.003664   19589  Subscriber        1983       1  \n",
       "3             -73.994811   21142    Customer         NaN       0  \n",
       "4             -73.976056   18679  Subscriber        1986       2  "
      ]
     },
     "execution_count": 5,
     "metadata": {},
     "output_type": "execute_result"
    }
   ],
   "source": [
    "df = pd.read_csv(DEC_14)\n",
    "df.head()"
   ]
  },
  {
   "cell_type": "code",
   "execution_count": 6,
   "metadata": {
    "collapsed": false
   },
   "outputs": [],
   "source": [
    "df['ageM'] = 2015-df['birth year'][(df['gender'] == 1)]\n",
    "df['ageF'] = 2015-df['birth year'][(df['gender'] == 2)]\n"
   ]
  },
  {
   "cell_type": "code",
   "execution_count": 7,
   "metadata": {
    "collapsed": false
   },
   "outputs": [
    {
     "name": "stdout",
     "output_type": "stream",
     "text": [
      "[10 20 30 40 50 60 70 80 90]\n"
     ]
    }
   ],
   "source": [
    "bins = np.arange(10, 99, 10)\n",
    "print (bins)"
   ]
  },
  {
   "cell_type": "code",
   "execution_count": 8,
   "metadata": {
    "collapsed": false,
    "scrolled": true
   },
   "outputs": [
    {
     "name": "stdout",
     "output_type": "stream",
     "text": [
      "          count_nonzero\n",
      "ageM                   \n",
      "(10, 20]           3519\n",
      "(20, 30]          70792\n",
      "(30, 40]          95191\n",
      "(40, 50]          72324\n",
      "(50, 60]          47122\n",
      "(60, 70]          14835\n",
      "(70, 80]           2086\n",
      "(80, 90]             97\n",
      "          count_nonzero\n",
      "ageF                   \n",
      "(10, 20]            866\n",
      "(20, 30]          21599\n",
      "(30, 40]          23362\n",
      "(40, 50]          15711\n",
      "(50, 60]          11757\n",
      "(60, 70]           2829\n",
      "(70, 80]            236\n",
      "(80, 90]             11\n"
     ]
    }
   ],
   "source": [
    "csM=df.ageM.groupby(pd.cut(df.ageM, bins)).agg([count_nonzero])\n",
    "csF=df.ageF.groupby(pd.cut(df.ageF, bins)).agg([count_nonzero])\n",
    "print (csM)\n",
    "print (csF)"
   ]
  },
  {
   "cell_type": "code",
   "execution_count": 9,
   "metadata": {
    "collapsed": false
   },
   "outputs": [
    {
     "name": "stdout",
     "output_type": "stream",
     "text": [
      "          Female   Male\n",
      "ageF                   \n",
      "(10, 20]     866   3519\n",
      "(20, 30]   21599  70792\n",
      "(30, 40]   23362  95191\n",
      "(40, 50]   15711  72324\n",
      "(50, 60]   11757  47122\n",
      "(60, 70]    2829  14835\n",
      "(70, 80]     236   2086\n",
      "(80, 90]      11     97\n"
     ]
    }
   ],
   "source": [
    "#csM.index\n",
    "#csM.add_suffix('_count').reset_index()\n",
    "#csF.add_suffix('_count').reset_index()\n",
    "\n",
    "#print(csM)\n",
    "d = {'Male':csM.count_nonzero, 'Female':csF.count_nonzero}\n",
    "df2 = pd.DataFrame(data=d)\n",
    "df2.reset_index()\n",
    "print(df2)\n",
    "#df3 = pd.DataFrame()\n",
    "#df3['pM'] = (df2['Male']*100)/(df2['Male'] + df2['Female'])\n",
    "#df3['pF'] = (df2['Female']*100)/(df2['Male'] + df2['Female'])\n",
    "#df3"
   ]
  },
  {
   "cell_type": "code",
   "execution_count": 10,
   "metadata": {
    "collapsed": false,
    "scrolled": false
   },
   "outputs": [
    {
     "data": {
      "text/plain": [
       "<matplotlib.text.Text at 0x1029f5510>"
      ]
     },
     "execution_count": 10,
     "metadata": {},
     "output_type": "execute_result"
    },
    {
     "data": {
      "image/png": "[encoded data removed]",
      "text/plain": [
       "<matplotlib.figure.Figure at 0x10f1c3910>"
      ]
     },
     "metadata": {},
     "output_type": "display_data"
    }
   ],
   "source": [
    "#csM.index\n",
    "#help(plt.figure)\n",
    "fig = plt.figure(figsize(16,10))\n",
    "ax=fig.add_subplot(111)\n",
    "\n",
    "df2.plot(kind='bar', stacked=True,ax=ax)\n",
    "ax.set_xlabel('Age')\n",
    "ax.set_ylabel('Num of Riders')\n",
    "ax.set_title('Citibike Ridership(December 2014)')\n"
   ]
  }
 ],
 "metadata": {
  "kernelspec": {
   "display_name": "Python 2",
   "language": "python",
   "name": "python2"
  },
  "language_info": {
   "codemirror_mode": {
    "name": "ipython",
    "version": 2
   },
   "file_extension": ".py",
   "mimetype": "text/x-python",
   "name": "python",
   "nbconvert_exporter": "python",
   "pygments_lexer": "ipython2",
   "version": "2.7.10"
  }
 },
 "nbformat": 4,
 "nbformat_minor": 0
}
