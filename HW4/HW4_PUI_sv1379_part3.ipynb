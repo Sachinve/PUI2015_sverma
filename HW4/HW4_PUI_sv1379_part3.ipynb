{
 "cells": [
  {
   "cell_type": "code",
   "execution_count": 6,
   "metadata": {
    "collapsed": false
   },
   "outputs": [
    {
     "name": "stdout",
     "output_type": "stream",
     "text": [
      "Populating the interactive namespace from numpy and matplotlib\n"
     ]
    },
    {
     "name": "stderr",
     "output_type": "stream",
     "text": [
      "WARNING: pylab import has clobbered these variables: ['winter', 'summer']\n",
      "`%matplotlib` prevents importing * from pylab and numpy\n"
     ]
    }
   ],
   "source": [
    "import pylab as pl\n",
    "import pandas as pd\n",
    "import numpy as np\n",
    "%pylab inline\n",
    "\n",
    "import os\n",
    "\n"
   ]
  },
  {
   "cell_type": "code",
   "execution_count": 7,
   "metadata": {
    "collapsed": true
   },
   "outputs": [],
   "source": [
    "import scipy.stats"
   ]
  },
  {
   "cell_type": "code",
   "execution_count": 8,
   "metadata": {
    "collapsed": true
   },
   "outputs": [],
   "source": [
    "# Create a data frame named as 'summer' including data from July and August 2015.\n",
    "jul = pd.read_csv(os.getenv ('PUI2015')+'/notebooks/data/201507-citibike-tripdata.csv')\n",
    "aug = pd.read_csv(os.getenv ('PUI2015')+'/notebooks/data/201508-citibike-tripdata.csv')\n",
    "summer = pd.concat([jul, aug], axis = 0, ignore_index=True)\n",
    "\n",
    "# Create a data frame named as 'Winter' including data from Jan and Feb 2015.\n",
    "jan = pd.read_csv(os.getenv ('PUI2015')+'/notebooks/data/201501-citibike-tripdata.csv')\n",
    "feb = pd.read_csv(os.getenv ('PUI2015')+'/notebooks/data/201502-citibike-tripdata.csv')\n",
    "winter = pd.concat([jan, feb], axis = 0, ignore_index=True)"
   ]
  },
  {
   "cell_type": "code",
   "execution_count": 9,
   "metadata": {
    "collapsed": false
   },
   "outputs": [],
   "source": [
    "#df is the dataframe where the content of the csv file is stored\n",
    "summer['age'] = 2015-summer['birth year'][(summer['usertype'] == 'Subscriber')]\n",
    "winter['age'] = 2015-winter['birth year'][(winter['usertype'] == 'Subscriber')]"
   ]
  },
  {
   "cell_type": "code",
   "execution_count": 10,
   "metadata": {
    "collapsed": false
   },
   "outputs": [
    {
     "data": {
      "image/png": "[encoded data removed]",
      "text/plain": [
       "<matplotlib.figure.Figure at 0x1262f0810>"
      ]
     },
     "metadata": {},
     "output_type": "display_data"
    },
    {
     "data": {
      "image/png": "[encoded data removed]",
      "text/plain": [
       "<matplotlib.figure.Figure at 0x15f92d8d0>"
      ]
     },
     "metadata": {},
     "output_type": "display_data"
    }
   ],
   "source": [
    "bins = np.arange(10, 99, 10)\n",
    "summer.age.groupby(pd.cut(summer.age, bins)).agg([count_nonzero]).plot(kind='bar', title=\"Summer\")\n",
    "summer_age_dist = summer.age.groupby(pd.cut(summer.age, bins)).agg([count_nonzero])\n",
    "winter.age.groupby(pd.cut(winter.age, bins)).agg([count_nonzero]).plot(kind='bar', title=\"Winter\")\n",
    "winter_age_dist = winter.age.groupby(pd.cut(winter.age, bins)).agg([count_nonzero])"
   ]
  },
  {
   "cell_type": "code",
   "execution_count": 12,
   "metadata": {
    "collapsed": false
   },
   "outputs": [
    {
     "name": "stdout",
     "output_type": "stream",
     "text": [
      "winter, normal fit KstestResult(statistic=1.0, pvalue=0.0)\n",
      "summer, normal fit KstestResult(statistic=1.0, pvalue=0.0)\n",
      "winter, normal fit KstestResult(statistic=0.99999783543649534, pvalue=0.0)\n",
      "summer, normal fit KstestResult(statistic=0.99999947822328306, pvalue=0.0)\n"
     ]
    }
   ],
   "source": [
    "#compare to normal\n",
    "\n",
    "ksW=scipy.stats.kstest(winter_age_dist, 'norm')\n",
    "ksS=scipy.stats.kstest(summer_age_dist, 'norm')\n",
    "print \"winter, normal fit\", ksW\n",
    "print \"summer, normal fit\", ksS\n",
    "\n",
    "#compare to poisson \n",
    "\n",
    "ksW=scipy.stats.kstest(winter_age_dist, 'cauchy')\n",
    "ksS=scipy.stats.kstest(summer_age_dist, 'cauchy')\n",
    "print \"winter, normal fit\", ksW\n",
    "print \"summer, normal fit\", ksS"
   ]
  },
  {
   "cell_type": "code",
   "execution_count": 22,
   "metadata": {
    "collapsed": false
   },
   "outputs": [
    {
     "name": "stdout",
     "output_type": "stream",
     "text": [
      "           count_nonzero\n",
      "age                    \n",
      "(10, 20]           4736\n",
      "(20, 30]         113851\n",
      "(30, 40]         147055\n",
      "(40, 50]         111967\n",
      "(50, 60]          73047\n",
      "(60, 70]          20945\n",
      "(70, 80]           2625\n",
      "(80, 90]            115\n",
      "winter, normal fit AndersonResult(statistic=4556.0239068368101, critical_values=array([ 0.576,  0.656,  0.787,  0.918,  1.092]), significance_level=array([ 15. ,  10. ,   5. ,   2.5,   1. ]))\n",
      "summer, normal fit AndersonResult(statistic=30342.689370448934, critical_values=array([ 0.576,  0.656,  0.787,  0.918,  1.092]), significance_level=array([ 15. ,  10. ,   5. ,   2.5,   1. ]))\n"
     ]
    }
   ],
   "source": [
    "#Compared to Anderson\n",
    "print (winter_age_dist)\n",
    "\n",
    "ageW = np.array([a for a in winter.age if not np.isnan(a)])\n",
    "ageS = np.array([b for b in summer.age if not np.isnan(b)])\n",
    "\n",
    "\n",
    "\n",
    "adW = scipy.stats.anderson(ageW, dist='norm')\n",
    "adS = scipy.stats.anderson(ageS, dist='norm')\n",
    "print \"winter, normal fit\", adW\n",
    "print \"summer, normal fit\", adS"
   ]
  },
  {
   "cell_type": "code",
   "execution_count": null,
   "metadata": {
    "collapsed": true
   },
   "outputs": [],
   "source": []
  }
 ],
 "metadata": {
  "kernelspec": {
   "display_name": "Python 2",
   "language": "python",
   "name": "python2"
  },
  "language_info": {
   "codemirror_mode": {
    "name": "ipython",
    "version": 2
   },
   "file_extension": ".py",
   "mimetype": "text/x-python",
   "name": "python",
   "nbconvert_exporter": "python",
   "pygments_lexer": "ipython2",
   "version": "2.7.10"
  }
 },
 "nbformat": 4,
 "nbformat_minor": 0
}
